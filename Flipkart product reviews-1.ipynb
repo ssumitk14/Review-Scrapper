{
 "cells": [
  {
   "cell_type": "code",
   "execution_count": 11,
   "metadata": {},
   "outputs": [],
   "source": [
    "import requests\n",
    "from bs4 import BeautifulSoup\n",
    "import re\n",
    "import pandas as pd"
   ]
  },
  {
   "cell_type": "code",
   "execution_count": 12,
   "metadata": {},
   "outputs": [
    {
     "name": "stdout",
     "output_type": "stream",
     "text": [
      "What do you want to search? samsung a10\n"
     ]
    }
   ],
   "source": [
    "searchString = input('What do you want to search? ')\n",
    "flipkart_url = \"https://www.flipkart.com/search?q=\" + searchString\n",
    "req = requests.get(flipkart_url)\n",
    "content = req.text\n",
    "soup = BeautifulSoup(content,'html.parser')\n",
    "\n",
    "bigboxes = soup.findAll(\"div\", {\"class\": \"bhgxx2 col-12-12\"})\n",
    "\n",
    "#bigboxes[2].div.div.div.a['href']"
   ]
  },
  {
   "cell_type": "code",
   "execution_count": 13,
   "metadata": {},
   "outputs": [],
   "source": [
    "flip = \"https://www.flipkart.com\"\n",
    "rating = []\n",
    "name = []\n",
    "heading =[]\n",
    "review = []\n",
    "for num in range(2,13):\n",
    "    newUrl = flip + bigboxes[num].div.div.div.a['href']\n",
    "\n",
    "    req = requests.get(newUrl)\n",
    "    soup = BeautifulSoup(req.content,'html.parser')\n",
    "    all = soup.findAll(\"div\",{'class':\"col _39LH-M\"})\n",
    "\n",
    "\n",
    "    links = []\n",
    "    for link in all[0].findAll('a', attrs={'href': re.compile(r\"FLIPKART$\")}):\n",
    "            links.append(link.get('href'))\n",
    "\n",
    "\n",
    "    if(len(links)==0):\n",
    "        continue\n",
    "    page_number = 1\n",
    "    reviewUrl =flip+links[0]+'&page='+str(page_number)\n",
    "    \n",
    "    req = requests.get(reviewUrl)\n",
    "    soup = BeautifulSoup(req.content,'html.parser')\n",
    "    full = soup.findAll('div',{'class':'ooJZfD _2oZ8XT col-9-12'})\n",
    "\n",
    "    all = full[0].findAll('div',{'class':'_3gijNv col-12-12'})\n",
    "\n",
    "    last_page = all[-1].find('div',{'class':'_2zg3yZ _3KSYCY'}).span.text.split(\" \")[-1]\n",
    "    last_page = int(last_page)\n",
    "\n",
    "\n",
    "    for page in range(page_number,last_page-1):\n",
    "        reviewUrl =flip+links[0]+'&page='+str(page)\n",
    "        req = requests.get(reviewUrl)\n",
    "        #print(reviewUrl)\n",
    "        soup = BeautifulSoup(req.content,'html.parser')\n",
    "        full = soup.findAll('div',{'class':'ooJZfD _2oZ8XT col-9-12'})\n",
    "\n",
    "        try:\n",
    "            all = full[0].findAll('div',{'class':'_3gijNv col-12-12'})\n",
    "        except:\n",
    "            pass\n",
    "        \n",
    "        for row in all[2:11]:\n",
    "            data = row.findAll('div',{'class':'row'})\n",
    "            try:\n",
    "                rating.append(data[0].text[0])\n",
    "            except:\n",
    "                rating.append('No rating')\n",
    "            try:\n",
    "                name.append(data[2].text.split('Certified')[0])\n",
    "            except:\n",
    "                name.append('No Name')\n",
    "            try:\n",
    "                heading.append(data[0].text[1:])\n",
    "            except:\n",
    "                heading.append('No Heading')\n",
    "            try:\n",
    "                review.append(data[1].text[:-10])\n",
    "            except:\n",
    "                review.append('No review')"
   ]
  },
  {
   "cell_type": "code",
   "execution_count": null,
   "metadata": {},
   "outputs": [],
   "source": []
  },
  {
   "cell_type": "code",
   "execution_count": 14,
   "metadata": {},
   "outputs": [
    {
     "data": {
      "text/html": [
       "<div>\n",
       "<style scoped>\n",
       "    .dataframe tbody tr th:only-of-type {\n",
       "        vertical-align: middle;\n",
       "    }\n",
       "\n",
       "    .dataframe tbody tr th {\n",
       "        vertical-align: top;\n",
       "    }\n",
       "\n",
       "    .dataframe thead th {\n",
       "        text-align: right;\n",
       "    }\n",
       "</style>\n",
       "<table border=\"1\" class=\"dataframe\">\n",
       "  <thead>\n",
       "    <tr style=\"text-align: right;\">\n",
       "      <th></th>\n",
       "      <th>Product</th>\n",
       "      <th>Rating</th>\n",
       "      <th>Name</th>\n",
       "      <th>Heading</th>\n",
       "      <th>Review</th>\n",
       "    </tr>\n",
       "  </thead>\n",
       "  <tbody>\n",
       "    <tr>\n",
       "      <th>0</th>\n",
       "      <td>samsung a10</td>\n",
       "      <td>5</td>\n",
       "      <td>amith gunaga</td>\n",
       "      <td>Fabulous!</td>\n",
       "      <td>Good product from Samsung...worthy and nice ca...</td>\n",
       "    </tr>\n",
       "    <tr>\n",
       "      <th>1</th>\n",
       "      <td>samsung a10</td>\n",
       "      <td>5</td>\n",
       "      <td>DIPAYAN BISWAS</td>\n",
       "      <td>Fabulous!</td>\n",
       "      <td>Baught this as a gift for father. Happiest Fat...</td>\n",
       "    </tr>\n",
       "    <tr>\n",
       "      <th>2</th>\n",
       "      <td>samsung a10</td>\n",
       "      <td>5</td>\n",
       "      <td>Hansraj Kakade</td>\n",
       "      <td>Excellent</td>\n",
       "      <td>Awesome phone , surprise for my mom she loved i</td>\n",
       "    </tr>\n",
       "    <tr>\n",
       "      <th>3</th>\n",
       "      <td>samsung a10</td>\n",
       "      <td>5</td>\n",
       "      <td>Rishabh  Pandey</td>\n",
       "      <td>Brilliant</td>\n",
       "      <td>good qualit</td>\n",
       "    </tr>\n",
       "    <tr>\n",
       "      <th>4</th>\n",
       "      <td>samsung a10</td>\n",
       "      <td>5</td>\n",
       "      <td>R.K Dhiman</td>\n",
       "      <td>Super!</td>\n",
       "      <td>very good mobil</td>\n",
       "    </tr>\n",
       "  </tbody>\n",
       "</table>\n",
       "</div>"
      ],
      "text/plain": [
       "       Product Rating              Name    Heading  \\\n",
       "0  samsung a10      5      amith gunaga  Fabulous!   \n",
       "1  samsung a10      5    DIPAYAN BISWAS  Fabulous!   \n",
       "2  samsung a10      5    Hansraj Kakade  Excellent   \n",
       "3  samsung a10      5  Rishabh  Pandey   Brilliant   \n",
       "4  samsung a10      5        R.K Dhiman     Super!   \n",
       "\n",
       "                                              Review  \n",
       "0  Good product from Samsung...worthy and nice ca...  \n",
       "1  Baught this as a gift for father. Happiest Fat...  \n",
       "2    Awesome phone , surprise for my mom she loved i  \n",
       "3                                        good qualit  \n",
       "4                                    very good mobil  "
      ]
     },
     "execution_count": 14,
     "metadata": {},
     "output_type": "execute_result"
    }
   ],
   "source": [
    "product = [searchString]*len(rating)\n",
    "\n",
    "data = [product,rating,name,heading,review]\n",
    "\n",
    "df = pd.DataFrame(list(zip(product,rating,name,heading,review)),columns = ['Product','Rating','Name','Heading','Review'])\n",
    "\n",
    "df.head()"
   ]
  },
  {
   "cell_type": "code",
   "execution_count": 15,
   "metadata": {},
   "outputs": [
    {
     "data": {
      "text/plain": [
       "(7659, 5)"
      ]
     },
     "execution_count": 15,
     "metadata": {},
     "output_type": "execute_result"
    }
   ],
   "source": [
    "df.shape"
   ]
  },
  {
   "cell_type": "code",
   "execution_count": null,
   "metadata": {},
   "outputs": [],
   "source": []
  }
 ],
 "metadata": {
  "kernelspec": {
   "display_name": "Python 3",
   "language": "python",
   "name": "python3"
  },
  "language_info": {
   "codemirror_mode": {
    "name": "ipython",
    "version": 3
   },
   "file_extension": ".py",
   "mimetype": "text/x-python",
   "name": "python",
   "nbconvert_exporter": "python",
   "pygments_lexer": "ipython3",
   "version": "3.7.4"
  }
 },
 "nbformat": 4,
 "nbformat_minor": 2
}
